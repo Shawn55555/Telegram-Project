{
 "cells": [
  {
   "cell_type": "code",
   "execution_count": 4,
   "metadata": {},
   "outputs": [
    {
     "name": "stdout",
     "output_type": "stream",
     "text": [
      "Enter the code: 45590\n",
      "Fetching Members...\n",
      "Saving In file...\n",
      "Members scraped successfully.\n"
     ]
    }
   ],
   "source": [
    "from telethon.sync import TelegramClient\n",
    "from telethon.tl.functions.messages import GetDialogsRequest\n",
    "from telethon.tl.types import InputPeerEmpty, InputPeerChannel, InputPeerUser\n",
    "from telethon.errors.rpcerrorlist import PeerFloodError, UserPrivacyRestrictedError\n",
    "from telethon.tl.functions.channels import InviteToChannelRequest\n",
    "import sys\n",
    "import csv\n",
    "import traceback\n",
    "import time\n",
    "\n",
    "api_id = \n",
    "api_hash = ''\n",
    "phone =\"\"\n",
    "\n",
    "session_name = ''\n",
    "\n",
    "client = TelegramClient(None, api_id, api_hash)\n",
    "\n",
    "await client.connect()\n",
    "if not await client.is_user_authorized():\n",
    "    await client.send_code_request(phone)\n",
    "    await client.sign_in(phone, input('Enter the code: '))\n",
    "\n",
    "print('Fetching Members...')\n",
    "all_participants = []\n",
    "\n",
    "#enter target group or channel\n",
    "target = 'https://t.me/joinchat/JjoNnBzpOPiXAdPG343lXg'\n",
    "\n",
    "all_participants = await client.get_participants(target, aggressive=True)\n",
    "\n",
    "print('Saving In file...')\n",
    "with open(\"C:/Users/User/Downloads/Year 3/book1.csv\",\"w\",encoding='UTF-8') as f:\n",
    "    writer = csv.writer(f, delimiter=\",\", lineterminator=\"\\n\")\n",
    "    writer.writerow(['sr. no.','username', 'user id', 'name', 'group', 'group id'])\n",
    "    i = 0\n",
    "    for user in all_participants:\n",
    "\n",
    "        i += 1\n",
    "        if user.username:\n",
    "            username = user.username\n",
    "        else:\n",
    "            username = \"\"\n",
    "        if user.first_name:\n",
    "            first_name = user.first_name\n",
    "        else:\n",
    "            first_name = \"\"\n",
    "        if user.last_name:\n",
    "            last_name = user.last_name\n",
    "        else:\n",
    "            last_name = \"\"\n",
    "        name = (first_name + ' ' + last_name).strip()\n",
    "        writer.writerow([i,username, user.id, name, 'group name', 'groupid'])\n",
    "print('Members scraped successfully.')\n",
    "\n"
   ]
  }
 ],
 "metadata": {
  "kernelspec": {
   "display_name": "Python 3",
   "language": "python",
   "name": "python3"
  },
  "language_info": {
   "codemirror_mode": {
    "name": "ipython",
    "version": 3
   },
   "file_extension": ".py",
   "mimetype": "text/x-python",
   "name": "python",
   "nbconvert_exporter": "python",
   "pygments_lexer": "ipython3",
   "version": "3.8.3"
  }
 },
 "nbformat": 4,
 "nbformat_minor": 4
}
